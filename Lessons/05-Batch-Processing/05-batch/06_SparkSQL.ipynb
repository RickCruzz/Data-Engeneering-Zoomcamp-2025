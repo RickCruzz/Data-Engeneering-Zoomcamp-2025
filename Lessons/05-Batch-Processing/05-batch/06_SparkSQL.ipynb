{
 "cells": [
  {
   "cell_type": "code",
   "execution_count": 22,
   "id": "4545b489-ad95-46e2-8d1c-3c7d73efe804",
   "metadata": {},
   "outputs": [],
   "source": [
    "import pyspark\n",
    "from pyspark.sql import SparkSession\n",
    "from pyspark.sql import functions as F"
   ]
  },
  {
   "cell_type": "code",
   "execution_count": 42,
   "id": "727a8ef2-9ca9-4f38-8d4e-542b6283db4e",
   "metadata": {},
   "outputs": [
    {
     "data": {
      "text/plain": [
       "'3.5.5'"
      ]
     },
     "execution_count": 42,
     "metadata": {},
     "output_type": "execute_result"
    }
   ],
   "source": [
    "spark.version"
   ]
  },
  {
   "cell_type": "code",
   "execution_count": 2,
   "id": "4f8db7de-852b-46a9-8404-6bb4822f138f",
   "metadata": {},
   "outputs": [
    {
     "name": "stderr",
     "output_type": "stream",
     "text": [
      "Setting default log level to \"WARN\".\n",
      "To adjust logging level use sc.setLogLevel(newLevel). For SparkR, use setLogLevel(newLevel).\n",
      "25/03/22 18:09:14 WARN NativeCodeLoader: Unable to load native-hadoop library for your platform... using builtin-java classes where applicable\n",
      "25/03/22 18:09:16 WARN Utils: Service 'SparkUI' could not bind on port 4040. Attempting port 4041.\n",
      "25/03/22 18:09:16 WARN Utils: Service 'SparkUI' could not bind on port 4041. Attempting port 4042.\n",
      "25/03/22 18:09:16 WARN Utils: Service 'SparkUI' could not bind on port 4042. Attempting port 4043.\n"
     ]
    }
   ],
   "source": [
    "spark = SparkSession.builder \\\n",
    "    .master(\"local[*]\") \\\n",
    "    .appName('test') \\\n",
    "    .getOrCreate()"
   ]
  },
  {
   "cell_type": "code",
   "execution_count": 3,
   "id": "8f421777-55ef-4eaa-a7f8-cf906abdb843",
   "metadata": {},
   "outputs": [
    {
     "name": "stderr",
     "output_type": "stream",
     "text": [
      "                                                                                \r"
     ]
    }
   ],
   "source": [
    "df_green = spark.read.parquet('data/pq/green/*/*')"
   ]
  },
  {
   "cell_type": "code",
   "execution_count": 4,
   "id": "8ebf1a29-69ac-4b37-9c10-9d5d6a78e18b",
   "metadata": {},
   "outputs": [
    {
     "name": "stderr",
     "output_type": "stream",
     "text": [
      "                                                                                \r"
     ]
    },
    {
     "name": "stdout",
     "output_type": "stream",
     "text": [
      "+--------+--------------------+---------------------+------------------+----------+------------+------------+---------------+-------------+-----------+-----+-------+----------+------------+---------+---------------------+------------+------------+---------+--------------------+\n",
      "|VendorID|lpep_pickup_datetime|lpep_dropoff_datetime|store_and_fwd_flag|RatecodeID|PULocationID|DOLocationID|passenger_count|trip_distance|fare_amount|extra|mta_tax|tip_amount|tolls_amount|ehail_fee|improvement_surcharge|total_amount|payment_type|trip_type|congestion_surcharge|\n",
      "+--------+--------------------+---------------------+------------------+----------+------------+------------+---------------+-------------+-----------+-----+-------+----------+------------+---------+---------------------+------------+------------+---------+--------------------+\n",
      "|2       |2020-01-23 13:10:15 |2020-01-23 13:38:16  |N                 |1         |74          |130         |1              |12.77        |36.0       |0.0  |0.5    |2.05      |6.12        |NULL     |0.3                  |44.97       |1           |1        |0.0                 |\n",
      "|NULL    |2020-01-20 15:09:00 |2020-01-20 15:46:00  |NULL              |NULL      |67          |39          |NULL           |8.0          |29.9       |2.75 |0.5    |0.0       |0.0         |NULL     |0.3                  |33.45       |NULL        |NULL     |NULL                |\n",
      "|2       |2020-01-15 20:23:41 |2020-01-15 20:31:18  |N                 |1         |260         |157         |1              |1.27         |7.0        |0.5  |0.5    |0.0       |0.0         |NULL     |0.3                  |8.3         |2           |1        |0.0                 |\n",
      "|2       |2020-01-05 16:32:26 |2020-01-05 16:40:51  |N                 |1         |82          |83          |1              |1.25         |7.5        |0.0  |0.5    |0.0       |0.0         |NULL     |0.3                  |8.3         |2           |1        |0.0                 |\n",
      "|2       |2020-01-29 19:22:42 |2020-01-29 19:31:02  |N                 |1         |166         |42          |1              |1.84         |8.0        |1.0  |0.5    |2.94      |0.0         |NULL     |0.3                  |12.74       |1           |1        |0.0                 |\n",
      "|2       |2020-01-15 11:07:42 |2020-01-15 11:11:31  |N                 |1         |179         |223         |2              |0.76         |5.0        |0.0  |0.5    |0.0       |0.0         |NULL     |0.3                  |5.8         |2           |1        |0.0                 |\n",
      "|2       |2020-01-16 08:22:29 |2020-01-16 08:50:24  |N                 |1         |41          |237         |1              |3.32         |18.5       |0.0  |0.5    |3.0       |0.0         |NULL     |0.3                  |25.05       |1           |1        |2.75                |\n",
      "|2       |2020-01-28 17:05:28 |2020-01-28 17:26:11  |N                 |1         |75          |161         |1              |2.21         |14.0       |1.0  |0.5    |2.78      |0.0         |NULL     |0.3                  |21.33       |1           |1        |2.75                |\n",
      "|1       |2020-01-22 14:51:37 |2020-01-22 14:57:29  |N                 |1         |152         |166         |1              |0.9          |6.0        |0.0  |0.5    |1.0       |0.0         |NULL     |0.3                  |7.8         |1           |1        |0.0                 |\n",
      "|2       |2020-01-31 10:25:04 |2020-01-31 10:52:13  |N                 |1         |75          |234         |1              |6.1          |22.5       |0.0  |0.5    |0.0       |0.0         |NULL     |0.3                  |26.05       |2           |1        |2.75                |\n",
      "+--------+--------------------+---------------------+------------------+----------+------------+------------+---------------+-------------+-----------+-----+-------+----------+------------+---------+---------------------+------------+------------+---------+--------------------+\n",
      "only showing top 10 rows\n",
      "\n"
     ]
    }
   ],
   "source": [
    "df_green.show(10,False)"
   ]
  },
  {
   "cell_type": "code",
   "execution_count": 5,
   "id": "7f6a3044-7535-417d-9276-01d91ca994e9",
   "metadata": {},
   "outputs": [],
   "source": [
    "df_yellow = spark.read.parquet('data/pq/yellow/*/*')"
   ]
  },
  {
   "cell_type": "code",
   "execution_count": 6,
   "id": "da7d2a1c-91b1-4b94-bb1c-da01bb4ea799",
   "metadata": {},
   "outputs": [
    {
     "name": "stdout",
     "output_type": "stream",
     "text": [
      "+--------+--------------------+---------------------+---------------+-------------+----------+------------------+------------+------------+------------+-----------+-----+-------+----------+------------+---------------------+------------+--------------------+\n",
      "|VendorID|tpep_pickup_datetime|tpep_dropoff_datetime|passenger_count|trip_distance|RatecodeID|store_and_fwd_flag|PULocationID|DOLocationID|payment_type|fare_amount|extra|mta_tax|tip_amount|tolls_amount|improvement_surcharge|total_amount|congestion_surcharge|\n",
      "+--------+--------------------+---------------------+---------------+-------------+----------+------------------+------------+------------+------------+-----------+-----+-------+----------+------------+---------------------+------------+--------------------+\n",
      "|2       |2020-01-06 09:18:38 |2020-01-06 09:33:56  |1              |3.03         |1         |N                 |263         |233         |1           |12.0       |0.0  |0.5    |1.5       |0.0         |0.3                  |16.8        |2.5                 |\n",
      "|2       |2020-01-08 18:55:19 |2020-01-08 18:58:38  |1              |0.4          |1         |N                 |234         |107         |1           |4.0        |1.0  |0.5    |1.66      |0.0         |0.3                  |9.96        |2.5                 |\n",
      "|2       |2020-01-16 12:11:53 |2020-01-16 12:42:44  |1              |2.46         |1         |N                 |68          |229         |1           |19.0       |0.0  |0.5    |4.46      |0.0         |0.3                  |26.76       |2.5                 |\n",
      "|2       |2020-01-11 01:55:59 |2020-01-11 02:03:21  |6              |1.9          |1         |N                 |230         |90          |1           |8.0        |0.5  |0.5    |2.36      |0.0         |0.3                  |14.16       |2.5                 |\n",
      "|2       |2020-01-01 21:31:48 |2020-01-01 21:36:01  |1              |0.77         |1         |N                 |238         |239         |1           |5.0        |0.5  |0.5    |1.76      |0.0         |0.3                  |10.56       |2.5                 |\n",
      "+--------+--------------------+---------------------+---------------+-------------+----------+------------------+------------+------------+------------+-----------+-----+-------+----------+------------+---------------------+------------+--------------------+\n",
      "only showing top 5 rows\n",
      "\n"
     ]
    }
   ],
   "source": [
    "df_yellow.show(5,False)"
   ]
  },
  {
   "cell_type": "code",
   "execution_count": 12,
   "id": "e01f8073-c767-4435-9d49-6e077a0ca559",
   "metadata": {},
   "outputs": [],
   "source": [
    "df_green = df_green \\\n",
    "    .withColumnRenamed('lpep_pickup_datetime','pickup_datetime') \\\n",
    "    .withColumnRenamed('lpep_dropoff_datetime','dropoff_datetime')"
   ]
  },
  {
   "cell_type": "code",
   "execution_count": 13,
   "id": "281859a3-b8e1-4b2a-8706-39eb7c49f7a6",
   "metadata": {},
   "outputs": [],
   "source": [
    "df_yellow = df_yellow \\\n",
    "    .withColumnRenamed('tpep_pickup_datetime','pickup_datetime') \\\n",
    "    .withColumnRenamed('tpep_dropoff_datetime','dropoff_datetime')"
   ]
  },
  {
   "cell_type": "code",
   "execution_count": 16,
   "id": "458ccd13-25c5-4638-8623-05db1471e20f",
   "metadata": {},
   "outputs": [],
   "source": [
    "#Selecting all columns for both\n",
    "common_columns = []\n",
    "yellow_columns = set(df_yellow.columns)\n",
    "for col in df_green.columns:\n",
    "    if col in yellow_columns:\n",
    "        common_columns.append(col)"
   ]
  },
  {
   "cell_type": "code",
   "execution_count": 23,
   "id": "5c2d08f2-f78f-4c55-b33a-6abcd49fa6ac",
   "metadata": {},
   "outputs": [],
   "source": [
    "df_green_sel = df_green.select(common_columns) \\\n",
    "    .withColumn('service_type', F.lit('green'))"
   ]
  },
  {
   "cell_type": "code",
   "execution_count": 25,
   "id": "23908ab2-0a4a-44b2-9769-a634978e66f5",
   "metadata": {},
   "outputs": [],
   "source": [
    "df_yellow_sel = df_yellow.select(common_columns) \\\n",
    "    .withColumn('service_type', F.lit('yellow'))"
   ]
  },
  {
   "cell_type": "code",
   "execution_count": 27,
   "id": "b94b2413-d2c0-4f99-9b9d-d27c42415470",
   "metadata": {},
   "outputs": [],
   "source": [
    "df_trips_data = df_green_sel.unionAll(df_yellow_sel)"
   ]
  },
  {
   "cell_type": "code",
   "execution_count": 28,
   "id": "f6588800-e6ea-4bf2-b76d-5ba2fbe111dc",
   "metadata": {},
   "outputs": [
    {
     "name": "stderr",
     "output_type": "stream",
     "text": [
      "[Stage 5:=================================================>       (14 + 2) / 16]\r"
     ]
    },
    {
     "name": "stdout",
     "output_type": "stream",
     "text": [
      "+------------+--------+\n",
      "|service_type|   count|\n",
      "+------------+--------+\n",
      "|       green| 2304517|\n",
      "|      yellow|39649199|\n",
      "+------------+--------+\n",
      "\n"
     ]
    },
    {
     "name": "stderr",
     "output_type": "stream",
     "text": [
      "                                                                                \r"
     ]
    }
   ],
   "source": [
    "df_trips_data.groupBy('service_type').count().show()"
   ]
  },
  {
   "cell_type": "code",
   "execution_count": 30,
   "id": "7bb91def-6b39-43f5-bddc-464f4871cec0",
   "metadata": {},
   "outputs": [
    {
     "name": "stderr",
     "output_type": "stream",
     "text": [
      "/home/henriquecruzz/spark/spark-3.5.5-bin-hadoop3/python/pyspark/sql/dataframe.py:329: FutureWarning: Deprecated in 2.0, use createOrReplaceTempView instead.\n",
      "  warnings.warn(\"Deprecated in 2.0, use createOrReplaceTempView instead.\", FutureWarning)\n"
     ]
    }
   ],
   "source": [
    "df_trips_data.registerTempTable('trips_data')"
   ]
  },
  {
   "cell_type": "code",
   "execution_count": 31,
   "id": "20dad147-ec1e-4508-9f7d-0c169cdcbabd",
   "metadata": {},
   "outputs": [
    {
     "name": "stderr",
     "output_type": "stream",
     "text": [
      "[Stage 8:=====================================================>   (15 + 1) / 16]\r"
     ]
    },
    {
     "name": "stdout",
     "output_type": "stream",
     "text": [
      "+------------+--------+\n",
      "|service_type|   count|\n",
      "+------------+--------+\n",
      "|       green| 2304517|\n",
      "|      yellow|39649199|\n",
      "+------------+--------+\n",
      "\n"
     ]
    },
    {
     "name": "stderr",
     "output_type": "stream",
     "text": [
      "                                                                                \r"
     ]
    }
   ],
   "source": [
    "spark.sql(\"\"\"\n",
    "Select service_type, count(1) as count\n",
    "from trips_data\n",
    "group by service_type\n",
    "\"\"\").show()"
   ]
  },
  {
   "cell_type": "code",
   "execution_count": 55,
   "id": "5ec6e045-21e4-4045-bbcf-84b4fbdc46b9",
   "metadata": {},
   "outputs": [],
   "source": [
    "df_result = spark.sql(\"\"\"\n",
    "    select \n",
    "    -- Revenue grouping \n",
    "    PULocationID as revenue_zone,\n",
    "    date_trunc('month', cast(pickup_datetime as TIMESTAMP)) as revenue_month,\n",
    "    service_type, \n",
    "\n",
    "    -- Revenue calculation \n",
    "    sum(fare_amount) as revenue_monthly_fare,\n",
    "    sum(extra) as revenue_monthly_extra,\n",
    "    sum(mta_tax) as revenue_monthly_mta_tax,\n",
    "    sum(tip_amount) as revenue_monthly_tip_amount,\n",
    "    sum(tolls_amount) as revenue_monthly_tolls_amount,\n",
    "    sum(improvement_surcharge) as revenue_monthly_improvement_surcharge,\n",
    "    sum(total_amount) as revenue_monthly_total_amount,\n",
    "\n",
    "    -- Additional calculations\n",
    "    avg(passenger_count) as avg_monthly_passenger_count,\n",
    "    avg(trip_distance) as avg_monthly_trip_distance\n",
    "\n",
    "    from trips_data\n",
    "    group by revenue_zone, revenue_month, service_type\n",
    "\"\"\")"
   ]
  },
  {
   "cell_type": "code",
   "execution_count": 56,
   "id": "4e4d0d20-fd1b-46db-92aa-7fabec334069",
   "metadata": {},
   "outputs": [
    {
     "name": "stderr",
     "output_type": "stream",
     "text": [
      "                                                                                \r"
     ]
    }
   ],
   "source": [
    "df_result.coalesce(1).write.parquet('data/report/revenue/', mode='overwrite')"
   ]
  }
 ],
 "metadata": {
  "kernelspec": {
   "display_name": "Python 3 (ipykernel)",
   "language": "python",
   "name": "python3"
  },
  "language_info": {
   "codemirror_mode": {
    "name": "ipython",
    "version": 3
   },
   "file_extension": ".py",
   "mimetype": "text/x-python",
   "name": "python",
   "nbconvert_exporter": "python",
   "pygments_lexer": "ipython3",
   "version": "3.12.2"
  }
 },
 "nbformat": 4,
 "nbformat_minor": 5
}
