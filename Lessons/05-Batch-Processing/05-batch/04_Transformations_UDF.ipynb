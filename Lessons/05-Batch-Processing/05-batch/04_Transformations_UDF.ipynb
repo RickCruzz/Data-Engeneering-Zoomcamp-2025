{
 "cells": [
  {
   "cell_type": "code",
   "execution_count": 1,
   "id": "ac68dad5-3f98-4a1c-8538-13669f47bc02",
   "metadata": {},
   "outputs": [],
   "source": [
    "import pyspark\n",
    "from pyspark.sql import SparkSession"
   ]
  },
  {
   "cell_type": "code",
   "execution_count": 2,
   "id": "65729f54-5afa-4123-bbd9-983167f09f18",
   "metadata": {},
   "outputs": [
    {
     "name": "stderr",
     "output_type": "stream",
     "text": [
      "Setting default log level to \"WARN\".\n",
      "To adjust logging level use sc.setLogLevel(newLevel). For SparkR, use setLogLevel(newLevel).\n",
      "25/03/22 15:15:43 WARN NativeCodeLoader: Unable to load native-hadoop library for your platform... using builtin-java classes where applicable\n",
      "25/03/22 15:15:44 WARN Utils: Service 'SparkUI' could not bind on port 4040. Attempting port 4041.\n"
     ]
    }
   ],
   "source": [
    "spark = SparkSession.builder \\\n",
    "    .master(\"local[*]\") \\\n",
    "    .appName('test') \\\n",
    "    .getOrCreate()"
   ]
  },
  {
   "cell_type": "code",
   "execution_count": 6,
   "id": "cbef28ec-269b-470f-92b7-554c562e5e29",
   "metadata": {},
   "outputs": [
    {
     "name": "stderr",
     "output_type": "stream",
     "text": [
      "                                                                                \r"
     ]
    }
   ],
   "source": [
    "df = spark.read.parquet('fhvhv/2021/01/')"
   ]
  },
  {
   "cell_type": "code",
   "execution_count": 7,
   "id": "78aef306-47cc-4a67-b786-a0074ed4db0c",
   "metadata": {},
   "outputs": [
    {
     "name": "stdout",
     "output_type": "stream",
     "text": [
      "root\n",
      " |-- hvfhs_license_num: string (nullable = true)\n",
      " |-- dispatching_base_num: string (nullable = true)\n",
      " |-- pickup_datetime: timestamp (nullable = true)\n",
      " |-- dropoff_datetime: timestamp (nullable = true)\n",
      " |-- PULocationID: integer (nullable = true)\n",
      " |-- DOLocationID: integer (nullable = true)\n",
      " |-- SR_Flag: string (nullable = true)\n",
      "\n"
     ]
    }
   ],
   "source": [
    "df.printSchema()"
   ]
  },
  {
   "cell_type": "code",
   "execution_count": 12,
   "id": "4b02d8f5-452b-4b75-8cdf-2288f5d59d72",
   "metadata": {},
   "outputs": [
    {
     "name": "stderr",
     "output_type": "stream",
     "text": [
      "                                                                                \r"
     ]
    },
    {
     "name": "stdout",
     "output_type": "stream",
     "text": [
      "+-------------------+-------------------+------------+------------+\n",
      "|    pickup_datetime|   dropoff_datetime|PULocationID|DOLocationID|\n",
      "+-------------------+-------------------+------------+------------+\n",
      "|2021-01-05 22:14:07|2021-01-05 22:32:28|         189|         107|\n",
      "|2021-01-02 17:59:55|2021-01-02 18:10:39|          88|         137|\n",
      "|2021-01-02 23:57:54|2021-01-03 00:15:48|         238|         224|\n",
      "|2021-01-06 15:53:13|2021-01-06 16:07:07|         169|         208|\n",
      "|2021-01-07 07:35:24|2021-01-07 07:55:49|          75|          88|\n",
      "|2021-01-07 08:45:12|2021-01-07 08:51:17|         210|         210|\n",
      "|2021-01-02 15:44:26|2021-01-02 16:10:50|         243|          69|\n",
      "|2021-01-04 16:50:28|2021-01-04 16:57:43|         250|         213|\n",
      "|2021-01-03 10:30:34|2021-01-03 10:44:53|          87|          79|\n",
      "|2021-01-03 22:05:20|2021-01-03 22:27:55|          68|         181|\n",
      "|2021-01-04 08:01:02|2021-01-04 08:33:27|          95|         236|\n",
      "|2021-01-02 13:01:10|2021-01-02 13:08:11|         262|         236|\n",
      "|2021-01-06 17:12:27|2021-01-06 17:46:56|         237|          83|\n",
      "|2021-01-04 09:05:18|2021-01-04 09:27:50|         159|          75|\n",
      "|2021-01-06 16:46:47|2021-01-06 17:50:24|         109|         119|\n",
      "|2021-01-06 08:03:47|2021-01-06 08:17:43|         145|         229|\n",
      "|2021-01-04 06:45:42|2021-01-04 06:55:01|         250|         212|\n",
      "|2021-01-03 13:20:41|2021-01-03 13:31:11|         130|          28|\n",
      "|2021-01-03 17:30:33|2021-01-03 17:45:19|          81|          46|\n",
      "|2021-01-06 20:55:57|2021-01-06 21:02:01|         113|          79|\n",
      "+-------------------+-------------------+------------+------------+\n",
      "only showing top 20 rows\n",
      "\n"
     ]
    }
   ],
   "source": [
    "#Selecting and Filtering\n",
    "df.select('pickup_datetime','dropoff_datetime','PULocationID','DOLocationID') \\\n",
    "  .filter(df.hvfhs_license_num == 'HV0003') \\\n",
    "  .show()"
   ]
  },
  {
   "cell_type": "code",
   "execution_count": 13,
   "id": "65e905bf-fe38-4e61-84fb-e9bd7b839d2b",
   "metadata": {},
   "outputs": [],
   "source": [
    "#Transformations vs Actions\n",
    "#Transformation (LAZY)\n",
    "# - Selecting, Filtering\n",
    "\n",
    "#Actions (EAGER)\n",
    "# - show, take/head, write"
   ]
  },
  {
   "cell_type": "code",
   "execution_count": 21,
   "id": "c4d7d435-9764-4175-9082-1aaa0fd9d7e0",
   "metadata": {},
   "outputs": [],
   "source": [
    "#Functions available\n",
    "from pyspark.sql import functions as F\n",
    "from pyspark.sql import types"
   ]
  },
  {
   "cell_type": "code",
   "execution_count": null,
   "id": "c5084038-4330-4dcb-bd13-1e34658e37fc",
   "metadata": {},
   "outputs": [],
   "source": [
    "F.to_date()"
   ]
  },
  {
   "cell_type": "code",
   "execution_count": 16,
   "id": "4d2c291b-f7ab-48f1-84bc-7d160d40873a",
   "metadata": {},
   "outputs": [
    {
     "name": "stdout",
     "output_type": "stream",
     "text": [
      "+-----------+------------+------------+------------+\n",
      "|pickup_date|dropoff_date|PULocationID|DOLocationID|\n",
      "+-----------+------------+------------+------------+\n",
      "| 2021-01-03|  2021-01-03|         255|          34|\n",
      "| 2021-01-05|  2021-01-05|         189|         107|\n",
      "| 2021-01-02|  2021-01-02|          88|         137|\n",
      "| 2021-01-02|  2021-01-03|         238|         224|\n",
      "| 2021-01-06|  2021-01-06|         169|         208|\n",
      "| 2021-01-07|  2021-01-07|          75|          88|\n",
      "| 2021-01-07|  2021-01-07|         210|         210|\n",
      "| 2021-01-02|  2021-01-02|         243|          69|\n",
      "| 2021-01-04|  2021-01-04|         250|         213|\n",
      "| 2021-01-03|  2021-01-03|          87|          79|\n",
      "| 2021-01-03|  2021-01-03|          68|         181|\n",
      "| 2021-01-04|  2021-01-04|          95|         236|\n",
      "| 2021-01-02|  2021-01-02|         262|         236|\n",
      "| 2021-01-04|  2021-01-04|         225|         233|\n",
      "| 2021-01-06|  2021-01-06|         237|          83|\n",
      "| 2021-01-05|  2021-01-05|         231|          87|\n",
      "| 2021-01-06|  2021-01-06|          22|          26|\n",
      "| 2021-01-04|  2021-01-04|         159|          75|\n",
      "| 2021-01-06|  2021-01-06|         109|         119|\n",
      "| 2021-01-06|  2021-01-06|         145|         229|\n",
      "+-----------+------------+------------+------------+\n",
      "only showing top 20 rows\n",
      "\n"
     ]
    }
   ],
   "source": [
    "df \\\n",
    "    .withColumn('pickup_date', F.to_date(df.pickup_datetime)) \\\n",
    "    .withColumn('dropoff_date', F.to_date(df.dropoff_datetime)) \\\n",
    "    .select('pickup_date', 'dropoff_date','PULocationID','DOLocationID') \\\n",
    "    .show()"
   ]
  },
  {
   "cell_type": "code",
   "execution_count": null,
   "id": "a88198d3-f9ee-42c0-a844-23f28083eadc",
   "metadata": {},
   "outputs": [],
   "source": [
    "#Definning own function - UDF"
   ]
  },
  {
   "cell_type": "code",
   "execution_count": 18,
   "id": "33700a62-5d30-4c52-9261-13d8c09c3fd1",
   "metadata": {},
   "outputs": [],
   "source": [
    "def crazy_stuff(base_num):\n",
    "    num = int(base_num[1:])\n",
    "    if num % 7 == 0:\n",
    "        return f's/{num:03x}'\n",
    "    elif num % 3 == 0 :\n",
    "        return f'a/{num:03x}'\n",
    "    else:\n",
    "        return f'e/{num:03x}'\n",
    "    "
   ]
  },
  {
   "cell_type": "code",
   "execution_count": 22,
   "id": "d1a60db9-0ba0-4ed8-b049-716fe2c83698",
   "metadata": {},
   "outputs": [],
   "source": [
    "crazy_stuff_udf = F.udf(crazy_stuff, returnType=types.StringType())"
   ]
  },
  {
   "cell_type": "code",
   "execution_count": 23,
   "id": "a19a677a-114f-4db5-86cd-a73d4238c32e",
   "metadata": {},
   "outputs": [
    {
     "name": "stderr",
     "output_type": "stream",
     "text": [
      "[Stage 4:>                                                          (0 + 1) / 1]\r"
     ]
    },
    {
     "name": "stdout",
     "output_type": "stream",
     "text": [
      "+-------+-----------+------------+------------+------------+\n",
      "|base_id|pickup_date|dropoff_date|PULocationID|DOLocationID|\n",
      "+-------+-----------+------------+------------+------------+\n",
      "|  e/9ce| 2021-01-03|  2021-01-03|         255|          34|\n",
      "|  e/b42| 2021-01-05|  2021-01-05|         189|         107|\n",
      "|  e/b33| 2021-01-02|  2021-01-02|          88|         137|\n",
      "|  e/b38| 2021-01-02|  2021-01-03|         238|         224|\n",
      "|  e/b3b| 2021-01-06|  2021-01-06|         169|         208|\n",
      "|  e/b33| 2021-01-07|  2021-01-07|          75|          88|\n",
      "|  e/acc| 2021-01-07|  2021-01-07|         210|         210|\n",
      "|  e/acc| 2021-01-02|  2021-01-02|         243|          69|\n",
      "|  e/b35| 2021-01-04|  2021-01-04|         250|         213|\n",
      "|  s/b3d| 2021-01-03|  2021-01-03|          87|          79|\n",
      "|  e/a39| 2021-01-03|  2021-01-03|          68|         181|\n",
      "|  s/acd| 2021-01-04|  2021-01-04|          95|         236|\n",
      "|  s/b13| 2021-01-02|  2021-01-02|         262|         236|\n",
      "|  e/9ce| 2021-01-04|  2021-01-04|         225|         233|\n",
      "|  e/b14| 2021-01-06|  2021-01-06|         237|          83|\n",
      "|  e/9ce| 2021-01-05|  2021-01-05|         231|          87|\n",
      "|  e/9ce| 2021-01-06|  2021-01-06|          22|          26|\n",
      "|  a/a7a| 2021-01-04|  2021-01-04|         159|          75|\n",
      "|  e/b35| 2021-01-06|  2021-01-06|         109|         119|\n",
      "|  a/b43| 2021-01-06|  2021-01-06|         145|         229|\n",
      "+-------+-----------+------------+------------+------------+\n",
      "only showing top 20 rows\n",
      "\n"
     ]
    },
    {
     "name": "stderr",
     "output_type": "stream",
     "text": [
      "                                                                                \r"
     ]
    }
   ],
   "source": [
    "df \\\n",
    "    .withColumn('pickup_date', F.to_date(df.pickup_datetime)) \\\n",
    "    .withColumn('dropoff_date', F.to_date(df.dropoff_datetime)) \\\n",
    "    .withColumn('base_id', crazy_stuff_udf(df.dispatching_base_num)) \\\n",
    "    .select('base_id', 'pickup_date', 'dropoff_date','PULocationID','DOLocationID') \\\n",
    "    .show()"
   ]
  }
 ],
 "metadata": {
  "kernelspec": {
   "display_name": "Python 3 (ipykernel)",
   "language": "python",
   "name": "python3"
  },
  "language_info": {
   "codemirror_mode": {
    "name": "ipython",
    "version": 3
   },
   "file_extension": ".py",
   "mimetype": "text/x-python",
   "name": "python",
   "nbconvert_exporter": "python",
   "pygments_lexer": "ipython3",
   "version": "3.12.2"
  }
 },
 "nbformat": 4,
 "nbformat_minor": 5
}
