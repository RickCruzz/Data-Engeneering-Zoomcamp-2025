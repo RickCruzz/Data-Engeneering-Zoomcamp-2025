{
 "cells": [
  {
   "cell_type": "code",
   "execution_count": 1,
   "id": "859de719-c73f-4f2a-abf2-b21be478920a",
   "metadata": {},
   "outputs": [
    {
     "name": "stderr",
     "output_type": "stream",
     "text": [
      "Setting default log level to \"WARN\".\n",
      "To adjust logging level use sc.setLogLevel(newLevel). For SparkR, use setLogLevel(newLevel).\n",
      "25/03/24 11:29:37 WARN NativeCodeLoader: Unable to load native-hadoop library for your platform... using builtin-java classes where applicable\n"
     ]
    }
   ],
   "source": [
    "import pyspark\n",
    "from pyspark.sql import SparkSession\n",
    "from pyspark.sql import functions as F\n",
    "spark = SparkSession.builder \\\n",
    "    .master(\"local[*]\") \\\n",
    "    .appName('test') \\\n",
    "    .getOrCreate()"
   ]
  },
  {
   "cell_type": "code",
   "execution_count": null,
   "id": "dbc06b1a-1693-4fc7-b10b-5e982c71d27d",
   "metadata": {},
   "outputs": [],
   "source": []
  },
  {
   "cell_type": "code",
   "execution_count": 2,
   "id": "63a77c76-6b1b-4417-b2d0-ac2dddd58ab5",
   "metadata": {},
   "outputs": [
    {
     "name": "stderr",
     "output_type": "stream",
     "text": [
      "                                                                                \r"
     ]
    }
   ],
   "source": [
    "df_green = spark.read.parquet('data/pq/green/*/*')\n"
   ]
  },
  {
   "cell_type": "code",
   "execution_count": 3,
   "id": "7e345c9c-d0a5-429b-9072-34e068297f63",
   "metadata": {},
   "outputs": [
    {
     "name": "stderr",
     "output_type": "stream",
     "text": [
      "/home/henriquecruzz/spark/spark-3.5.5-bin-hadoop3/python/pyspark/sql/dataframe.py:329: FutureWarning: Deprecated in 2.0, use createOrReplaceTempView instead.\n",
      "  warnings.warn(\"Deprecated in 2.0, use createOrReplaceTempView instead.\", FutureWarning)\n"
     ]
    }
   ],
   "source": [
    "df_green.registerTempTable('green')"
   ]
  },
  {
   "cell_type": "code",
   "execution_count": 4,
   "id": "a63c0c2f-2a1f-48b4-b646-89cb3deb05a3",
   "metadata": {},
   "outputs": [
    {
     "name": "stdout",
     "output_type": "stream",
     "text": [
      "root\n",
      " |-- VendorID: integer (nullable = true)\n",
      " |-- lpep_pickup_datetime: timestamp (nullable = true)\n",
      " |-- lpep_dropoff_datetime: timestamp (nullable = true)\n",
      " |-- store_and_fwd_flag: string (nullable = true)\n",
      " |-- RatecodeID: integer (nullable = true)\n",
      " |-- PULocationID: integer (nullable = true)\n",
      " |-- DOLocationID: integer (nullable = true)\n",
      " |-- passenger_count: long (nullable = true)\n",
      " |-- trip_distance: double (nullable = true)\n",
      " |-- fare_amount: double (nullable = true)\n",
      " |-- extra: double (nullable = true)\n",
      " |-- mta_tax: double (nullable = true)\n",
      " |-- tip_amount: double (nullable = true)\n",
      " |-- tolls_amount: double (nullable = true)\n",
      " |-- ehail_fee: double (nullable = true)\n",
      " |-- improvement_surcharge: double (nullable = true)\n",
      " |-- total_amount: double (nullable = true)\n",
      " |-- payment_type: integer (nullable = true)\n",
      " |-- trip_type: integer (nullable = true)\n",
      " |-- congestion_surcharge: double (nullable = true)\n",
      "\n"
     ]
    }
   ],
   "source": [
    "df_green.printSchema()"
   ]
  },
  {
   "cell_type": "code",
   "execution_count": 5,
   "id": "183b68c6-01e4-425d-bbe0-c63025c793da",
   "metadata": {},
   "outputs": [],
   "source": [
    "df_green_revenue = spark.sql(\"\"\"\n",
    "    select \n",
    "    PULocationID as zone,\n",
    "    date_trunc('hour', cast(lpep_pickup_datetime as TIMESTAMP)) as hour,\n",
    "    \n",
    "    sum(total_amount) as amount,\n",
    "    count(1) as number_of_records\n",
    "    from green\n",
    "    where lpep_pickup_datetime >= '2020-01-01 00:00:00'\n",
    "    group by 1,2\n",
    "    Order by\n",
    "    zone, hour\n",
    "\"\"\")"
   ]
  },
  {
   "cell_type": "code",
   "execution_count": 6,
   "id": "c3e512b0-c9e0-4e58-b4db-530b48ed09f5",
   "metadata": {},
   "outputs": [
    {
     "name": "stderr",
     "output_type": "stream",
     "text": [
      "                                                                                \r"
     ]
    },
    {
     "name": "stdout",
     "output_type": "stream",
     "text": [
      "+----+-------------------+------+-----------------+\n",
      "|zone|hour               |amount|number_of_records|\n",
      "+----+-------------------+------+-----------------+\n",
      "|1   |2020-01-01 03:00:00|155.3 |1                |\n",
      "|1   |2020-01-03 05:00:00|117.39|1                |\n",
      "|1   |2020-01-26 10:00:00|85.56 |1                |\n",
      "|1   |2020-01-29 18:00:00|108.36|1                |\n",
      "|1   |2020-02-01 06:00:00|115.56|1                |\n",
      "+----+-------------------+------+-----------------+\n",
      "only showing top 5 rows\n",
      "\n"
     ]
    }
   ],
   "source": [
    "df_green_revenue.show(5, False)"
   ]
  },
  {
   "cell_type": "code",
   "execution_count": 7,
   "id": "8d8d9b93-d7cc-4039-9aa2-932bc18c7812",
   "metadata": {},
   "outputs": [
    {
     "name": "stderr",
     "output_type": "stream",
     "text": [
      "                                                                                \r"
     ]
    }
   ],
   "source": [
    "df_green_revenue \\\n",
    "    .repartition(20) \\\n",
    "    .write.parquet('data/report/revenue/green', mode='overwrite')"
   ]
  },
  {
   "cell_type": "code",
   "execution_count": null,
   "id": "d140c316-a3d5-4c0d-87ae-268a58301e1a",
   "metadata": {},
   "outputs": [],
   "source": []
  },
  {
   "cell_type": "code",
   "execution_count": 8,
   "id": "fcaf44ce-6b4e-412e-932a-e10e887bc33e",
   "metadata": {},
   "outputs": [],
   "source": [
    "df_yellow = spark.read.parquet('data/pq/yellow/*/*')\n",
    "df_yellow.registerTempTable('yellow')"
   ]
  },
  {
   "cell_type": "code",
   "execution_count": 9,
   "id": "785a7d1d-043e-4150-afd7-fd5b7d2bee92",
   "metadata": {},
   "outputs": [],
   "source": [
    "df_yellow_revenue = spark.sql(\"\"\"\n",
    "    select \n",
    "    PULocationID as zone,\n",
    "    date_trunc('hour', cast(tpep_pickup_datetime as TIMESTAMP)) as hour,\n",
    "    \n",
    "    sum(total_amount) as amount,\n",
    "    count(1) as number_of_records\n",
    "    from yellow\n",
    "    where tpep_pickup_datetime >= '2020-01-01 00:00:00'\n",
    "    group by 1,2\n",
    "    Order by\n",
    "    zone, hour\n",
    "\"\"\")"
   ]
  },
  {
   "cell_type": "code",
   "execution_count": 10,
   "id": "e7a27749-580e-4430-88b9-f3d9164386fb",
   "metadata": {},
   "outputs": [
    {
     "name": "stderr",
     "output_type": "stream",
     "text": [
      "                                                                                \r"
     ]
    }
   ],
   "source": [
    "df_yellow_revenue \\\n",
    "    .repartition(20) \\\n",
    "    .write.parquet('data/report/revenue/yellow', mode='overwrite')"
   ]
  },
  {
   "cell_type": "code",
   "execution_count": null,
   "id": "767a5ec5-94c5-4808-af57-1b25c34cb5fc",
   "metadata": {},
   "outputs": [],
   "source": []
  },
  {
   "cell_type": "code",
   "execution_count": 11,
   "id": "26919de8-ddbf-44a1-b93a-1234980004df",
   "metadata": {},
   "outputs": [],
   "source": [
    "## JOINS IN SPARK"
   ]
  },
  {
   "cell_type": "code",
   "execution_count": 23,
   "id": "90a7fbe1-db70-4672-b7f1-eabe1b7bed97",
   "metadata": {},
   "outputs": [],
   "source": [
    "df_green_revenue = spark.read.parquet('data/report/revenue/green')\n",
    "df_yellow_revenuw = spark.read.parquet('data/report/revenue/yellow')"
   ]
  },
  {
   "cell_type": "code",
   "execution_count": 24,
   "id": "df777863-ae9b-44de-9610-b16c7bdfcc2c",
   "metadata": {},
   "outputs": [],
   "source": [
    "df_green_revenue_tmp = df_green_revenue \\\n",
    "    .withColumnRenamed('amount', 'green_amount') \\\n",
    "    .withColumnRenamed('number_of_records', 'green_number_records')\n"
   ]
  },
  {
   "cell_type": "code",
   "execution_count": 25,
   "id": "ad502e37-570f-4207-ac96-98c7e4ae387e",
   "metadata": {},
   "outputs": [],
   "source": [
    "df_yellow_revenue_tmp = df_yellow_revenue \\\n",
    "    .withColumnRenamed('amount', 'yellow_amount') \\\n",
    "    .withColumnRenamed('number_of_records', 'yellow_number_records')\n"
   ]
  },
  {
   "cell_type": "code",
   "execution_count": 26,
   "id": "add8e665-e3a8-4ea6-a714-a51c3ff342d3",
   "metadata": {},
   "outputs": [],
   "source": [
    "df_join = df_green_revenue_tmp.join(df_yellow_revenue_tmp, on=['hour','zone'], how='outer')"
   ]
  },
  {
   "cell_type": "code",
   "execution_count": 27,
   "id": "e60b876a-024b-4312-8e11-a7dc3a3042a8",
   "metadata": {},
   "outputs": [
    {
     "name": "stderr",
     "output_type": "stream",
     "text": [
      "[Stage 50:>                                                         (0 + 1) / 1]\r"
     ]
    },
    {
     "name": "stdout",
     "output_type": "stream",
     "text": [
      "+-------------------+----+------------+--------------------+------------------+---------------------+\n",
      "|               hour|zone|green_amount|green_number_records|     yellow_amount|yellow_number_records|\n",
      "+-------------------+----+------------+--------------------+------------------+---------------------+\n",
      "|2020-01-01 05:00:00|   1|        NULL|                NULL|              40.3|                    1|\n",
      "|2020-01-01 07:00:00|   1|        NULL|                NULL|              0.31|                    1|\n",
      "|2020-01-01 11:00:00|   1|        NULL|                NULL|              90.3|                    1|\n",
      "|2020-01-01 12:00:00|   1|        NULL|                NULL|            266.66|                    3|\n",
      "|2020-01-01 15:00:00|   1|        NULL|                NULL|            315.21|                    4|\n",
      "|2020-01-01 18:00:00|   1|        NULL|                NULL|            400.41|                    3|\n",
      "|2020-01-02 01:00:00|   1|        NULL|                NULL|             84.36|                    1|\n",
      "|2020-01-02 06:00:00|   1|        NULL|                NULL|            249.95|                    3|\n",
      "|2020-01-02 09:00:00|   1|        NULL|                NULL|              86.8|                    1|\n",
      "|2020-01-02 15:00:00|   1|        NULL|                NULL|246.60000000000002|                    2|\n",
      "|2020-01-02 18:00:00|   1|        NULL|                NULL|             389.5|                    4|\n",
      "|2020-01-03 00:00:00|   1|        NULL|                NULL|             84.96|                    1|\n",
      "|2020-01-03 02:00:00|   1|        NULL|                NULL|             121.6|                    2|\n",
      "|2020-01-03 06:00:00|   1|        NULL|                NULL|            174.36|                    1|\n",
      "|2020-01-03 12:00:00|   1|        NULL|                NULL|               3.3|                    1|\n",
      "|2020-01-03 19:00:00|   1|        NULL|                NULL|            284.32|                    3|\n",
      "|2020-01-03 20:00:00|   1|        NULL|                NULL|              80.8|                    1|\n",
      "|2020-01-04 02:00:00|   1|        NULL|                NULL|              85.3|                    1|\n",
      "|2020-01-04 14:00:00|   1|        NULL|                NULL|            391.32|                    3|\n",
      "|2020-01-04 18:00:00|   1|        NULL|                NULL|             161.3|                    1|\n",
      "+-------------------+----+------------+--------------------+------------------+---------------------+\n",
      "only showing top 20 rows\n",
      "\n"
     ]
    },
    {
     "name": "stderr",
     "output_type": "stream",
     "text": [
      "                                                                                \r"
     ]
    }
   ],
   "source": [
    "df_join.show()"
   ]
  },
  {
   "cell_type": "code",
   "execution_count": 28,
   "id": "981dff97-09d1-490d-a842-15bdd271828c",
   "metadata": {
    "scrolled": true
   },
   "outputs": [
    {
     "name": "stderr",
     "output_type": "stream",
     "text": [
      "                                                                                \r"
     ]
    }
   ],
   "source": [
    "df_join \\\n",
    "    .repartition(20) \\\n",
    "    .write.parquet('data/report/revenue/total', mode='overwrite')"
   ]
  },
  {
   "cell_type": "code",
   "execution_count": 29,
   "id": "4a8c9e6a-04de-4050-b3fd-27f76db82f0b",
   "metadata": {},
   "outputs": [],
   "source": [
    "df_join = spark.read.parquet('data/report/revenue/total', mode='overwrite')"
   ]
  },
  {
   "cell_type": "code",
   "execution_count": 30,
   "id": "3de23cc2-e303-403e-9fe8-e99fc642f1df",
   "metadata": {},
   "outputs": [
    {
     "name": "stdout",
     "output_type": "stream",
     "text": [
      "+-------------------+----+------------------+--------------------+------------------+---------------------+\n",
      "|               hour|zone|      green_amount|green_number_records|     yellow_amount|yellow_number_records|\n",
      "+-------------------+----+------------------+--------------------+------------------+---------------------+\n",
      "|2020-11-13 09:00:00|  75|226.49000000000004|                  17| 978.7399999999998|                   60|\n",
      "|2021-07-24 13:00:00|  40|             12.88|                   1|             45.67|                    3|\n",
      "|2020-07-31 06:00:00| 166|              9.35|                   1|            176.06|                    8|\n",
      "|2020-07-08 09:00:00|  88|              NULL|                NULL|             54.72|                    2|\n",
      "|2020-11-13 11:00:00| 215|             21.63|                   1|              NULL|                 NULL|\n",
      "|2021-01-22 08:00:00| 246|              NULL|                NULL| 302.5200000000001|                   19|\n",
      "|2020-09-06 18:00:00|  51|              NULL|                NULL|              15.0|                    1|\n",
      "|2020-06-13 12:00:00| 263|              NULL|                NULL| 631.9300000000001|                   39|\n",
      "|2021-05-22 12:00:00| 163|              NULL|                NULL|2502.7099999999987|                  139|\n",
      "|2020-11-05 12:00:00| 258|              17.8|                   1|              NULL|                 NULL|\n",
      "|2021-05-04 06:00:00|  66|             19.71|                   1|             23.98|                    1|\n",
      "|2021-01-07 18:00:00|  65|             82.14|                   5|             88.92|                    3|\n",
      "|2020-11-25 10:00:00| 264|              NULL|                NULL|            217.22|                   18|\n",
      "|2020-04-20 06:00:00| 116|             24.05|                   1|47.599999999999994|                    2|\n",
      "|2021-04-29 11:00:00| 265|             88.35|                   1|1135.1299999999999|                   32|\n",
      "|2021-06-11 17:00:00| 225|              36.8|                   1|              49.2|                    1|\n",
      "|2020-04-14 01:00:00| 132|              NULL|                NULL|              10.3|                    1|\n",
      "|2020-09-10 08:00:00| 100|              NULL|                NULL|1014.6599999999993|                   74|\n",
      "|2021-04-16 11:00:00| 222|             34.04|                   1|            124.06|                    3|\n",
      "|2020-02-10 13:00:00| 134|            162.17|                   7|              NULL|                 NULL|\n",
      "+-------------------+----+------------------+--------------------+------------------+---------------------+\n",
      "only showing top 20 rows\n",
      "\n"
     ]
    }
   ],
   "source": [
    "df_join.show()"
   ]
  },
  {
   "cell_type": "code",
   "execution_count": 31,
   "id": "d48e2877-0e36-4010-9d95-a32552071018",
   "metadata": {},
   "outputs": [],
   "source": [
    "df_zones = spark.read.parquet('zones/')"
   ]
  },
  {
   "cell_type": "code",
   "execution_count": 33,
   "id": "dc3dc5c6-1f7b-4021-be1f-1c3c7d61e4d3",
   "metadata": {},
   "outputs": [],
   "source": [
    "df_result = df_join.join(df_zones, df_join.zone==df_zones.LocationID)"
   ]
  },
  {
   "cell_type": "code",
   "execution_count": 36,
   "id": "f12a36db-ab3b-4bf0-9c7d-cbb5cf61fbb6",
   "metadata": {},
   "outputs": [
    {
     "name": "stderr",
     "output_type": "stream",
     "text": [
      "                                                                                \r"
     ]
    }
   ],
   "source": [
    "df_result.drop('LocationID', 'zone').write.parquet('tmp/revenue-zones')"
   ]
  },
  {
   "cell_type": "code",
   "execution_count": null,
   "id": "a7b5869d-e71c-450d-844e-0e1b7793cb48",
   "metadata": {},
   "outputs": [],
   "source": []
  },
  {
   "cell_type": "code",
   "execution_count": null,
   "id": "3bfb8e8d-6603-4432-977e-7463c06b66d8",
   "metadata": {},
   "outputs": [],
   "source": []
  }
 ],
 "metadata": {
  "kernelspec": {
   "display_name": "Python 3 (ipykernel)",
   "language": "python",
   "name": "python3"
  },
  "language_info": {
   "codemirror_mode": {
    "name": "ipython",
    "version": 3
   },
   "file_extension": ".py",
   "mimetype": "text/x-python",
   "name": "python",
   "nbconvert_exporter": "python",
   "pygments_lexer": "ipython3",
   "version": "3.12.2"
  }
 },
 "nbformat": 4,
 "nbformat_minor": 5
}
